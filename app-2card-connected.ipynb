{
 "cells": [
  {
   "cell_type": "code",
   "execution_count": 1,
   "id": "38dbea1f",
   "metadata": {},
   "outputs": [],
   "source": [
    "import pandas as pd\n",
    "import networkx as nx\n",
    "import matplotlib.pyplot as plt\n",
    "import dash\n",
    "from dash import dcc\n",
    "from dash import html\n",
    "from dash.dependencies import Input, Output\n",
    "import dash_bootstrap_components as dbc\n",
    "import dash_cytoscape as cyto"
   ]
  },
  {
   "cell_type": "markdown",
   "id": "bcfacfc6",
   "metadata": {},
   "source": [
    "## Функции"
   ]
  },
  {
   "cell_type": "code",
   "execution_count": 2,
   "id": "f29f402e",
   "metadata": {},
   "outputs": [],
   "source": [
    "def create_prot_net(dis, distable):\n",
    "    dfprot1 = distable[distable.diseases == str(dis)]\n",
    "    listofnodes = dfprot1['diseases'].unique().tolist() + dfprot1['gene'].values.tolist()\n",
    "    \n",
    "    if len(listofnodes) <=12:\n",
    "        pass\n",
    "    else:\n",
    "        listofnodes = listofnodes[:11]\n",
    "    pp = [\n",
    "    { \n",
    "        'data': {'id': listofnodes[0]},\n",
    "        'classes': 'pink'}\n",
    "    ]\n",
    "    nodes = [\n",
    "    {\n",
    "        'data': {'id': x, 'label': x},\n",
    "        'classes': 'rectangle'\n",
    "    }\n",
    "    for x in listofnodes[1:]]\n",
    "    edges = [\n",
    "    {'data': {'source': listofnodes[0], 'target': target}}\n",
    "    for target in listofnodes[1:]\n",
    "    ]\n",
    "    elements = pp + nodes + edges\n",
    "    return elements"
   ]
  },
  {
   "cell_type": "code",
   "execution_count": 3,
   "id": "be35b38e",
   "metadata": {},
   "outputs": [],
   "source": [
    "def create_dis_net(prot, distable):\n",
    "    dfprot1 = distable[distable.gene == str(prot)]\n",
    "    listofnodes = dfprot1['gene'].unique().tolist() + dfprot1['diseases'].values.tolist()\n",
    "    \n",
    "    if len(listofnodes) <=12:\n",
    "        pass\n",
    "    else:\n",
    "        listofnodes = listofnodes[:11]\n",
    "    pp = [\n",
    "    {\n",
    "        'data': {'id': listofnodes[0]},\n",
    "        'classes': 'rectangle'}\n",
    "    ]\n",
    "    nodes = [\n",
    "    {\n",
    "        'data': {'id': x, 'label': x},\n",
    "        'classes': 'pink'\n",
    "    }\n",
    "    for x in listofnodes[1:]]\n",
    "    edges = [\n",
    "    {'data': {'source': listofnodes[0], 'target': target}}\n",
    "    for target in listofnodes[1:]\n",
    "    ]\n",
    "    elements = pp + nodes + edges\n",
    "    return elements"
   ]
  },
  {
   "cell_type": "code",
   "execution_count": 4,
   "id": "c38b43a5",
   "metadata": {},
   "outputs": [],
   "source": [
    "def create_list_proteins(dis, distable):\n",
    "    dfprot1 = distable[distable.diseases == str(dis)]\n",
    "    listofproteins = dfprot1['gene'].values.tolist()\n",
    "    return [{'label': categ, 'value': categ} for categ in sorted(listofproteins)]"
   ]
  },
  {
   "cell_type": "markdown",
   "id": "77d8d53e",
   "metadata": {},
   "source": [
    "## Загрузка данных"
   ]
  },
  {
   "cell_type": "code",
   "execution_count": 5,
   "id": "6158157a",
   "metadata": {},
   "outputs": [],
   "source": [
    "distable = pd.read_csv('human_disease_experiments_full.tsv', \n",
    "                       sep = '\\t', \n",
    "                       names = ['ENSP', 'gene', 'DOID', 'diseases', 'TIGA', 'MenRankScore', 'score'])\n",
    "distable = distable[distable['diseases'].str.contains('ICD10')==False]\n",
    "distable = distable[distable['diseases'].str.contains('DOID:')==False]\n",
    "distable = distable[distable['diseases'].eq('Disease')==False]\n",
    "distable = distable.sort_values(by=['gene', 'score'], ascending=False)"
   ]
  },
  {
   "cell_type": "code",
   "execution_count": 6,
   "id": "b03e6552",
   "metadata": {},
   "outputs": [],
   "source": [
    "available_dis = sorted(distable['diseases'].unique())\n",
    "listofproteins = sorted(distable['gene'].unique())"
   ]
  },
  {
   "cell_type": "markdown",
   "id": "b67ea14d",
   "metadata": {},
   "source": [
    "## Фильтры"
   ]
  },
  {
   "cell_type": "code",
   "execution_count": 7,
   "id": "601041f2",
   "metadata": {},
   "outputs": [],
   "source": [
    "disprot_filter =dbc.Col([\n",
    "        dcc.Dropdown(\n",
    "            id=\"disprot_dropdown\",\n",
    "            value='Disease of anatomical entity',\n",
    "            options=[{'label': category, 'value': category} for category in available_dis]\n",
    "        ),\n",
    "    ],\n",
    "    style={'max-width': '100%'},\n",
    ")"
   ]
  },
  {
   "cell_type": "code",
   "execution_count": 8,
   "id": "ee0db728",
   "metadata": {},
   "outputs": [],
   "source": [
    "protdis_filter = dbc.Col([\n",
    "        dcc.Dropdown(\n",
    "            id=\"protdis_dropdown\",\n",
    "            value=None,\n",
    "            options=[{'label': category, 'value': category} for category in listofproteins]\n",
    "        ),\n",
    "    ],\n",
    "    style={'max-width': '100%'},\n",
    ")"
   ]
  },
  {
   "cell_type": "markdown",
   "id": "cde13530",
   "metadata": {},
   "source": [
    "## Приложение"
   ]
  },
  {
   "cell_type": "code",
   "execution_count": 9,
   "id": "19df1da4",
   "metadata": {},
   "outputs": [],
   "source": [
    "app = dash.Dash(external_stylesheets=[\"assets/html-components.css\", dbc.themes.BOOTSTRAP])"
   ]
  },
  {
   "cell_type": "markdown",
   "id": "4e7e6d5c",
   "metadata": {},
   "source": [
    "## Карточки"
   ]
  },
  {
   "cell_type": "code",
   "execution_count": 10,
   "id": "f41f8c22",
   "metadata": {},
   "outputs": [],
   "source": [
    "disprotcard = dbc.Card(\n",
    "    [\n",
    "        dbc.CardBody([\n",
    "            dbc.Row([\n",
    "                dbc.Col([\n",
    "                    html.Label(\"Заболевание — Белки\",\n",
    "                               style={'font-size': 24,\n",
    "                                      'text-align': 'left',\n",
    "                                      },\n",
    "                               ),\n",
    "                ], width=6),\n",
    "                dbc.Col([\n",
    "                    disprot_filter,\n",
    "                ], width=6)\n",
    "            ]),\n",
    "            cyto.Cytoscape(\n",
    "                id='cytoscape-disprot-callbacks',\n",
    "                layout={'name': 'cose'},\n",
    "                stylesheet=[\n",
    "                    {'selector': 'node',\n",
    "                     'style': {\n",
    "                         'background-color': '#00BFFF',\n",
    "                         'label': 'data(label)'}\n",
    "                    },\n",
    "                    {'selector': 'edge',\n",
    "                     'style': {\n",
    "                         'line-color': '#A3C4BC'}\n",
    "                    },\n",
    "                    {\n",
    "                    'selector': '.rectangle',\n",
    "                    'style': {\n",
    "                        'shape': 'rectangle'}},\n",
    "                    {'selector': '.pink',\n",
    "                     'style': {\n",
    "                         'background-color': '#FF69B4'}}],\n",
    "                style={'width': '100%', 'height': '100%'},\n",
    "                )\n",
    "        ],\n",
    "            style={\n",
    "                'height': '42rem',\n",
    "            }\n",
    "        )\n",
    "    ])"
   ]
  },
  {
   "cell_type": "code",
   "execution_count": 11,
   "id": "cf64d60b",
   "metadata": {},
   "outputs": [],
   "source": [
    "prdiscard = dbc.Card(\n",
    "    [\n",
    "        dbc.CardBody([\n",
    "            dbc.Row([\n",
    "                dbc.Col([\n",
    "                    html.Label(\"Белок — Заболевания\",\n",
    "                               style={'font-size': 24,\n",
    "                                      'text-align': 'left',\n",
    "                                      },\n",
    "                               ),\n",
    "                ], width=6),\n",
    "                dbc.Col([\n",
    "                    protdis_filter,\n",
    "                ], width=6)\n",
    "            ]),\n",
    "            cyto.Cytoscape(\n",
    "                id='cytoscape-protdis-callbacks',\n",
    "                layout={'name': 'cose'},\n",
    "                stylesheet=[\n",
    "                    {'selector': 'node',\n",
    "                     'style': {\n",
    "                         'background-color': '#00BFFF',\n",
    "                         'label': 'data(label)'}\n",
    "                    },\n",
    "                    {'selector': 'edge',\n",
    "                     'style': {\n",
    "                         'line-color': '#A3C4BC'}\n",
    "                    },\n",
    "                    {\n",
    "                    'selector': '.rectangle',\n",
    "                    'style': {\n",
    "                        'shape': 'rectangle'}},\n",
    "                    {'selector': '.pink',\n",
    "                     'style': {\n",
    "                         'background-color': '#FF69B4'}}],\n",
    "                style={'width': '100%', 'height': '100%'},\n",
    "                )\n",
    "        ],\n",
    "            style={\n",
    "                'height': '42rem',\n",
    "            }\n",
    "        )\n",
    "    ])"
   ]
  },
  {
   "cell_type": "code",
   "execution_count": 12,
   "id": "7b8f6507",
   "metadata": {},
   "outputs": [],
   "source": [
    "app.layout = html.Div(children=[\n",
    "    html.H1('Взаимосвязь белков с заболеваниями'),\n",
    "    html.Br(),\n",
    "    dbc.Row([\n",
    "        dbc.Col([\n",
    "            disprotcard,\n",
    "        ]),\n",
    "        dbc.Col([\n",
    "            prdiscard,\n",
    "        ])])\n",
    "], style={'margin-left':'80px',\n",
    "         'margin-right':'80px'}\n",
    ")"
   ]
  },
  {
   "cell_type": "markdown",
   "id": "85dda77e",
   "metadata": {},
   "source": [
    "## Колбеки"
   ]
  },
  {
   "cell_type": "code",
   "execution_count": 13,
   "id": "76cc26ee",
   "metadata": {},
   "outputs": [],
   "source": [
    "@app.callback(\n",
    "    Output('protdis_dropdown', 'options'),\n",
    "    Input('disprot_dropdown', 'value')\n",
    ")\n",
    "def update_protdis_dropdown(dis):\n",
    "    return create_list_proteins(dis, distable)"
   ]
  },
  {
   "cell_type": "code",
   "execution_count": 14,
   "id": "c39351db",
   "metadata": {},
   "outputs": [],
   "source": [
    "@app.callback(\n",
    "    Output('cytoscape-disprot-callbacks', 'elements'),\n",
    "    Input('disprot_dropdown', 'value')\n",
    ")\n",
    "def create_prot_net_upd(prot):\n",
    "    return create_prot_net(prot, distable)"
   ]
  },
  {
   "cell_type": "code",
   "execution_count": 15,
   "id": "20702fff",
   "metadata": {},
   "outputs": [],
   "source": [
    "@app.callback(\n",
    "    Output('cytoscape-protdis-callbacks', 'elements'),\n",
    "    Input('protdis_dropdown', 'value')\n",
    ")\n",
    "def create_dis_net_upd(prot):\n",
    "    return create_dis_net(prot, distable)"
   ]
  },
  {
   "cell_type": "code",
   "execution_count": 16,
   "id": "44d6a797",
   "metadata": {},
   "outputs": [
    {
     "name": "stdout",
     "output_type": "stream",
     "text": [
      "Dash is running on http://127.0.0.1:8050/\n",
      "\n",
      " * Serving Flask app '__main__' (lazy loading)\n",
      " * Environment: production\n",
      "\u001b[31m   WARNING: This is a development server. Do not use it in a production deployment.\u001b[0m\n",
      "\u001b[2m   Use a production WSGI server instead.\u001b[0m\n",
      " * Debug mode: off\n"
     ]
    },
    {
     "name": "stderr",
     "output_type": "stream",
     "text": [
      " * Running on http://127.0.0.1:8050 (Press CTRL+C to quit)\n",
      "127.0.0.1 - - [26/Jul/2022 01:03:08] \"GET / HTTP/1.1\" 200 -\n",
      "127.0.0.1 - - [26/Jul/2022 01:03:08] \"GET /assets/html-components.css HTTP/1.1\" 404 -\n",
      "127.0.0.1 - - [26/Jul/2022 01:03:08] \"GET /_dash-layout HTTP/1.1\" 200 -\n",
      "127.0.0.1 - - [26/Jul/2022 01:03:08] \"GET /_dash-dependencies HTTP/1.1\" 200 -\n",
      "127.0.0.1 - - [26/Jul/2022 01:03:08] \"GET /_dash-component-suites/dash/dcc/async-dropdown.js HTTP/1.1\" 304 -\n",
      "127.0.0.1 - - [26/Jul/2022 01:03:08] \"POST /_dash-update-component HTTP/1.1\" 200 -\n",
      "127.0.0.1 - - [26/Jul/2022 01:03:08] \"POST /_dash-update-component HTTP/1.1\" 200 -\n"
     ]
    },
    {
     "name": "stdout",
     "output_type": "stream",
     "text": [
      "Exception on /_dash-update-component [POST]\n",
      "Traceback (most recent call last):\n",
      "  File \"C:\\Programs\\Anaconda\\envs\\ds\\lib\\site-packages\\flask\\app.py\", line 2077, in wsgi_app\n",
      "    response = self.full_dispatch_request()\n",
      "  File \"C:\\Programs\\Anaconda\\envs\\ds\\lib\\site-packages\\flask\\app.py\", line 1525, in full_dispatch_request\n",
      "    rv = self.handle_user_exception(e)\n",
      "  File \"C:\\Programs\\Anaconda\\envs\\ds\\lib\\site-packages\\flask\\app.py\", line 1523, in full_dispatch_request\n",
      "    rv = self.dispatch_request()\n",
      "  File \"C:\\Programs\\Anaconda\\envs\\ds\\lib\\site-packages\\flask\\app.py\", line 1509, in dispatch_request\n",
      "    return self.ensure_sync(self.view_functions[rule.endpoint])(**req.view_args)\n",
      "  File \"C:\\Programs\\Anaconda\\envs\\ds\\lib\\site-packages\\dash\\dash.py\", line 1472, in dispatch\n",
      "    response.set_data(func(*args, outputs_list=outputs_list))\n",
      "  File \"C:\\Programs\\Anaconda\\envs\\ds\\lib\\site-packages\\dash\\_callback.py\", line 151, in add_context\n",
      "    output_value = func(*func_args, **func_kwargs)  # %% callback invoked %%\n",
      "  File \"C:\\Users\\asiya\\AppData\\Local\\Temp/ipykernel_6024/2829902017.py\", line 6, in create_dis_net_upd\n",
      "    return create_dis_net(prot, distable)\n",
      "  File \"C:\\Users\\asiya\\AppData\\Local\\Temp/ipykernel_6024/3859243425.py\", line 11, in create_dis_net\n",
      "    'data': {'id': listofnodes[0]},\n",
      "IndexError: list index out of range\n"
     ]
    },
    {
     "name": "stderr",
     "output_type": "stream",
     "text": [
      "127.0.0.1 - - [26/Jul/2022 01:03:08] \"POST /_dash-update-component HTTP/1.1\" 500 -\n",
      "127.0.0.1 - - [26/Jul/2022 01:03:15] \"POST /_dash-update-component HTTP/1.1\" 200 -\n"
     ]
    }
   ],
   "source": [
    "if __name__ == \"__main__\":\n",
    "    app.run_server()"
   ]
  },
  {
   "cell_type": "code",
   "execution_count": null,
   "id": "bb0f38d4",
   "metadata": {},
   "outputs": [],
   "source": []
  }
 ],
 "metadata": {
  "kernelspec": {
   "display_name": "Python 3 (ipykernel)",
   "language": "python",
   "name": "python3"
  },
  "language_info": {
   "codemirror_mode": {
    "name": "ipython",
    "version": 3
   },
   "file_extension": ".py",
   "mimetype": "text/x-python",
   "name": "python",
   "nbconvert_exporter": "python",
   "pygments_lexer": "ipython3",
   "version": "3.8.11"
  }
 },
 "nbformat": 4,
 "nbformat_minor": 5
}
